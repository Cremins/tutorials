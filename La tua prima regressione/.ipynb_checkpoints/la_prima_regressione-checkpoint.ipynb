{
 "cells": [
  {
   "cell_type": "markdown",
   "metadata": {
    "colab_type": "text",
    "id": "5tULfXPRb-xQ"
   },
   "source": [
    "# La tua prima Regressione\n",
    "La regressione è uno dei due principali problemi dell'apprendimento supervisionato, la branca del machine learning che vuole insegnare ai computer a risolvere un determinato problema mostrandogli come questo problema è stato già risolto in passato.\n",
    "<br><br>\n",
    "**Intuitivamente** la regressione consente di trovare la relazione tra input e output, in modo da predire output futuri avendo a disposizione solamente l'input.<br><br>\n",
    "Ad esempio, avendo a disposizione un set di dati contenente le specifiche di diversi smartphone e il relativo prezzo di listino, potremmo utilizzare la regressione per predire a che prezzo potrà essere venduto un nuovo smartphone basandoci sulle sue specifiche.\n",
    "\n",
    "Altri esempi molto comuni sono il provare a predire il valore futuro di un titolo in borsa in base ai valori passati, provare a predire l'affluenza di utenti al blog in base ai contenuti di un articolo che si vuole pubblicare o il numero di nuovi iscritti in base a delle campagne di advertising in pianificazione.\n",
    "\n",
    "<br><br>\n",
    "**Matematicamente** la regressione può essere intesa come il trovare la funzione che meglio approssima la relazione tra la variabile dipendente X (l'input) e la variabile indipendente Y (l'output). Nel caso di una regressione lineare questa funzione è un polinomio.\n",
    "\n",
    "$$ f(x)=xw+b $$\n",
    "\n",
    "**Graficamente** questa relazione lineare può essere rappresentata come una retta che passa il più vicino possibile a tutti i punti costituiti da input X e output Y.\n",
    "<img src=\"res/linear.jpg\" width=\"750px\"/>"
   ]
  },
  {
   "cell_type": "markdown",
   "metadata": {
    "colab_type": "text",
    "id": "93UDaqZ3ovOy"
   },
   "source": [
    "## Predire il valore di un'abitazione\n",
    "Per questo primo esempio utilizzeremo il popolarissimo **Boston Housing Dataset**,  un dataset contenente diverse informazioni riguardo alcune abitazioni nei dintorni di Boston.\n",
    "<br><br>\n",
    "Un dataset strutturato si può presentare in diversi formati: CSV, TSV, XML, HTTP, JSON, EXCEL eccetera, in ogni caso questo ha una struttura tabulare.<br>\n",
    " * Una delle colonne della tabella è il valore che vogliamo addestrare il nostro modello a predire e prende il nome di **target**.\n",
    " * Tutte le altre colonne sono proprietà che possiamo potenzialmente usare per creare il nostro modello, purchè abbiano una relazione con il target, e vengono chiamate **features**."
   ]
  },
  {
   "cell_type": "markdown",
   "metadata": {
    "colab_type": "text",
    "id": "C04kDwFLrNLK"
   },
   "source": [
    "Pandas è una libreria Python sviluppata appositamente per chi lavora con i dati e mette a disposizione una particolare struttura dati chiamata **DataFrame** che si presta particolarmente bene a contenere dati in forma tabulare.<br><br>\n",
    "Carichiamo il Boston Housing Dataset all'interno di un DataFrame utilizzando la funzione <span style=\"font-family: Monaco\">read_csv</span>\n",
    ", seguita dal metodo <span style=\"font-family: Monaco\">head</span>\n",
    " del DataFrame per vedere le sue prime 5 righe."
   ]
  },
  {
   "cell_type": "code",
   "execution_count": 3,
   "metadata": {
    "colab": {
     "base_uri": "https://localhost:8080/",
     "height": 204
    },
    "colab_type": "code",
    "id": "g58pgETWXhaf",
    "outputId": "4ba63ba4-f4e7-40e6-de0f-170c1fbb7885"
   },
   "outputs": [
    {
     "data": {
      "text/html": [
       "<div>\n",
       "<style scoped>\n",
       "    .dataframe tbody tr th:only-of-type {\n",
       "        vertical-align: middle;\n",
       "    }\n",
       "\n",
       "    .dataframe tbody tr th {\n",
       "        vertical-align: top;\n",
       "    }\n",
       "\n",
       "    .dataframe thead th {\n",
       "        text-align: right;\n",
       "    }\n",
       "</style>\n",
       "<table border=\"1\" class=\"dataframe\">\n",
       "  <thead>\n",
       "    <tr style=\"text-align: right;\">\n",
       "      <th></th>\n",
       "      <th>CRIM</th>\n",
       "      <th>ZN</th>\n",
       "      <th>INDUS</th>\n",
       "      <th>CHAS</th>\n",
       "      <th>NOX</th>\n",
       "      <th>RM</th>\n",
       "      <th>AGE</th>\n",
       "      <th>DIS</th>\n",
       "      <th>RAD</th>\n",
       "      <th>TAX</th>\n",
       "      <th>PRATIO</th>\n",
       "      <th>B</th>\n",
       "      <th>LSTAT</th>\n",
       "      <th>MEDV</th>\n",
       "    </tr>\n",
       "  </thead>\n",
       "  <tbody>\n",
       "    <tr>\n",
       "      <th>0</th>\n",
       "      <td>0.00632</td>\n",
       "      <td>18.0</td>\n",
       "      <td>2.31</td>\n",
       "      <td>0</td>\n",
       "      <td>0.538</td>\n",
       "      <td>6.575</td>\n",
       "      <td>65.2</td>\n",
       "      <td>4.0900</td>\n",
       "      <td>1</td>\n",
       "      <td>296.0</td>\n",
       "      <td>15.3</td>\n",
       "      <td>396.90</td>\n",
       "      <td>4.98</td>\n",
       "      <td>24.0</td>\n",
       "    </tr>\n",
       "    <tr>\n",
       "      <th>1</th>\n",
       "      <td>0.02731</td>\n",
       "      <td>0.0</td>\n",
       "      <td>7.07</td>\n",
       "      <td>0</td>\n",
       "      <td>0.469</td>\n",
       "      <td>6.421</td>\n",
       "      <td>78.9</td>\n",
       "      <td>4.9671</td>\n",
       "      <td>2</td>\n",
       "      <td>242.0</td>\n",
       "      <td>17.8</td>\n",
       "      <td>396.90</td>\n",
       "      <td>9.14</td>\n",
       "      <td>21.6</td>\n",
       "    </tr>\n",
       "    <tr>\n",
       "      <th>2</th>\n",
       "      <td>0.02729</td>\n",
       "      <td>0.0</td>\n",
       "      <td>7.07</td>\n",
       "      <td>0</td>\n",
       "      <td>0.469</td>\n",
       "      <td>7.185</td>\n",
       "      <td>61.1</td>\n",
       "      <td>4.9671</td>\n",
       "      <td>2</td>\n",
       "      <td>242.0</td>\n",
       "      <td>17.8</td>\n",
       "      <td>392.83</td>\n",
       "      <td>4.03</td>\n",
       "      <td>34.7</td>\n",
       "    </tr>\n",
       "    <tr>\n",
       "      <th>3</th>\n",
       "      <td>0.03237</td>\n",
       "      <td>0.0</td>\n",
       "      <td>2.18</td>\n",
       "      <td>0</td>\n",
       "      <td>0.458</td>\n",
       "      <td>6.998</td>\n",
       "      <td>45.8</td>\n",
       "      <td>6.0622</td>\n",
       "      <td>3</td>\n",
       "      <td>222.0</td>\n",
       "      <td>18.7</td>\n",
       "      <td>394.63</td>\n",
       "      <td>2.94</td>\n",
       "      <td>33.4</td>\n",
       "    </tr>\n",
       "    <tr>\n",
       "      <th>4</th>\n",
       "      <td>0.06905</td>\n",
       "      <td>0.0</td>\n",
       "      <td>2.18</td>\n",
       "      <td>0</td>\n",
       "      <td>0.458</td>\n",
       "      <td>7.147</td>\n",
       "      <td>54.2</td>\n",
       "      <td>6.0622</td>\n",
       "      <td>3</td>\n",
       "      <td>222.0</td>\n",
       "      <td>18.7</td>\n",
       "      <td>396.90</td>\n",
       "      <td>5.33</td>\n",
       "      <td>36.2</td>\n",
       "    </tr>\n",
       "  </tbody>\n",
       "</table>\n",
       "</div>"
      ],
      "text/plain": [
       "      CRIM    ZN  INDUS  CHAS    NOX     RM   AGE     DIS  RAD    TAX  PRATIO  \\\n",
       "0  0.00632  18.0   2.31     0  0.538  6.575  65.2  4.0900    1  296.0    15.3   \n",
       "1  0.02731   0.0   7.07     0  0.469  6.421  78.9  4.9671    2  242.0    17.8   \n",
       "2  0.02729   0.0   7.07     0  0.469  7.185  61.1  4.9671    2  242.0    17.8   \n",
       "3  0.03237   0.0   2.18     0  0.458  6.998  45.8  6.0622    3  222.0    18.7   \n",
       "4  0.06905   0.0   2.18     0  0.458  7.147  54.2  6.0622    3  222.0    18.7   \n",
       "\n",
       "        B  LSTAT  MEDV  \n",
       "0  396.90   4.98  24.0  \n",
       "1  396.90   9.14  21.6  \n",
       "2  392.83   4.03  34.7  \n",
       "3  394.63   2.94  33.4  \n",
       "4  396.90   5.33  36.2  "
      ]
     },
     "execution_count": 3,
     "metadata": {},
     "output_type": "execute_result"
    }
   ],
   "source": [
    "import pandas as pd\n",
    "\n",
    "boston = pd.read_csv(\"https://archive.ics.uci.edu/ml/machine-learning-databases/housing/housing.data\", \n",
    "                     sep='\\s+', #le colonne all'interno del file sono separate da un numero variabile di spazi, in questo caso dobbiamo utilizzare l'espressione regolare '\\s+'\n",
    "                     names=[\"CRIM\",\"ZN\",\"INDUS\",\"CHAS\",\"NOX\",\"RM\",\"AGE\",\"DIS\",\"RAD\",\"TAX\",\"PRATIO\",\"B\",\"LSTAT\",\"MEDV\"]) # impostiamo dei nomi per le colonne\n",
    "\n",
    "boston.head() # passando un valore n a questo metodo stamperemo i primi n esempi del dataset"
   ]
  },
  {
   "cell_type": "markdown",
   "metadata": {
    "colab_type": "text",
    "id": "FamNWyBee45X"
   },
   "source": [
    "La colonna che abbiamo denominato MEDV contiene il valore dell'abitazione in `1000$` (es. un MEDV di 24 corrisponde a `24000$`) ed è il nostro target."
   ]
  },
  {
   "cell_type": "markdown",
   "metadata": {
    "colab_type": "text",
    "id": "V4jjE4OeqG_L"
   },
   "source": [
    "## Regressione lineare semplice\n",
    "Una regressione lineare semplice è un modello che utilizza un'unica feature, nel nostro caso utilizzeremo solo il numero di stanze, cioè la colonna che abbiamo denominato RM.\n",
    "<br><br>\n",
    "Estraiamo la feature RM  e il target MEDV e salviamo i valori all'interno di due array numpy che ci serviranno per l'addestramento."
   ]
  },
  {
   "cell_type": "code",
   "execution_count": 4,
   "metadata": {
    "colab": {},
    "colab_type": "code",
    "id": "MOuH4HTtcWdA"
   },
   "outputs": [],
   "source": [
    "X = boston[['RM']].values # con l'attributo values ottieniamo l'array\n",
    "Y = boston[\"MEDV\"].values"
   ]
  },
  {
   "cell_type": "markdown",
   "metadata": {
    "colab_type": "text",
    "id": "rDAJao6c6x3z"
   },
   "source": [
    "E' buona pratica nel machine learning eseguire l'addestramento su un set di dati per poi verificare i risultati delle sue predizioni con un altro set contente dati non visti durante l'addestramento.<br><br>\n",
    "Questo garantisce che il nostro modello è in grado di generalizzare su dati sconosciuti e quindi ha realmente \"imparato\" dai dati, piuttosto che limitarsi a memorizzare il set di addestramento, condizione conosciuta come **overfitting**.\n",
    "<br><br>\n",
    "Per fare questo dobbiamo suddividere il nostro dataset in due set distinti, uno da utilizzare unicamente per l'addestramento e un altro da utilizzare per il test, possiamo farlo utilizzando il metodo <span style=\"font-family: Monaco\">train_test_split</span> di scikit-learn."
   ]
  },
  {
   "cell_type": "code",
   "execution_count": 28,
   "metadata": {
    "colab": {},
    "colab_type": "code",
    "id": "42bg2S5E6xNM"
   },
   "outputs": [],
   "source": [
    "from sklearn.model_selection import train_test_split\n",
    "X_train, X_test, Y_train, Y_test = train_test_split(X,Y, test_size=0.3, random_state=0)"
   ]
  },
  {
   "cell_type": "markdown",
   "metadata": {
    "colab_type": "text",
    "id": "VNAOHE6-84lL"
   },
   "source": [
    "Adesso abbiamo tutto ciò che ci serve per costruire il modello di regressione lineare, facciamolo utilizzando la classe LinearRegression di scikit-learn:\n",
    " * con il metodo **fit** eseguiamo l'addestramento\n",
    " * con il metodo **predict** eseguiamo la predizione\n",
    " \n",
    " \n",
    "Queste due semplici API sono comuni tra tutti i modelli definiti in scikit-learn, questo rende il sostituire un modello con un altro estremamente semplice."
   ]
  },
  {
   "cell_type": "code",
   "execution_count": 29,
   "metadata": {
    "colab": {},
    "colab_type": "code",
    "id": "xOrfRy6_cL1D"
   },
   "outputs": [],
   "source": [
    "from sklearn.linear_model import LinearRegression\n",
    "\n",
    "ll = LinearRegression()\n",
    "ll.fit(X_train, Y_train) # passiamo i set di addestramento \n",
    "Y_pred_train = ll.predict(X_train) # eseguiamo la predizione sul train set\n",
    "Y_pred_test = ll.predict(X_test) # eseguiamo la predizione anche sul test set"
   ]
  },
  {
   "cell_type": "markdown",
   "metadata": {
    "colab_type": "text",
    "id": "pNiL_luf92jA"
   },
   "source": [
    "Congratulazione ! Hai costruito il tuo primo modello di regressione e hai eseguito la tua prima predizione. Adesso bisogna vedere quanto buono è questo modello.<br>\n",
    "Per farlo dobbiamo definire una metrica che ci permetterà di misurare quanto le predizioni del modello si avvicinano ai valori corretti.<br>\n",
    "Una metrica semplice che fa proprio questo è **l'errore quadratico medio (mean squadred error - MSE)**"
   ]
  },
  {
   "cell_type": "code",
   "execution_count": 30,
   "metadata": {
    "colab": {
     "base_uri": "https://localhost:8080/",
     "height": 51
    },
    "colab_type": "code",
    "id": "USoHngAddMw3",
    "outputId": "48e53956-ea4a-4620-c7a6-762ce04c4441"
   },
   "outputs": [
    {
     "name": "stdout",
     "output_type": "stream",
     "text": [
      "MSE train: 42.157651\n",
      "MSE test: 47.033047\n"
     ]
    }
   ],
   "source": [
    "from sklearn.metrics import mean_squared_error\n",
    "\n",
    "print(\"MSE train: %f\" % mean_squared_error(Y_train, Y_pred_train))\n",
    "print(\"MSE test: %f\" % mean_squared_error(Y_test, Y_pred_test))"
   ]
  },
  {
   "cell_type": "markdown",
   "metadata": {
    "colab_type": "text",
    "id": "sU-_bU8JCcEO"
   },
   "source": [
    "Come vanno interpretati questi valori ? Estraendo la radice quadrata dell'MSE otteniamo un valore che indica mediamente di quanto si è sbagliato il modello. Nel nostro caso, il test set ha ottenuto un MSE di 47 la cui radice quadrata è circa 6.9, considerando che i prezzi delle case sono rappresentati in `1000$` questo ci dice che in media il modello ha fatto cilecca per `6900$`\n",
    "<br><br>\n",
    "Una metrica più intuitiva è **il coefficiente di indeterminazione** (anche conosciuto come **punteggio R2**), che può essere inteso come una versione standardizzata del MSE e ritorna un valore compreso tra 0 e 1 che può essere letto in questo modo:\n",
    "* **R2_score < 0.3** il modello è inutile.\n",
    "* **0.3 < R2_score < 0.5** il modello è scarso.\n",
    "* **0.5 < R2_score < 0.7** il modello è discreto.\n",
    "* **0.7 < R2_score < 0.9** il modello è buono.\n",
    "* **0.9 < R2_score < 1** il modello è ottimo.\n",
    "* **R2_score = 1** molto probabilmente c'è un errore nel modello."
   ]
  },
  {
   "cell_type": "code",
   "execution_count": 32,
   "metadata": {
    "colab": {
     "base_uri": "https://localhost:8080/",
     "height": 51
    },
    "colab_type": "code",
    "id": "pl-4zJDPeT04",
    "outputId": "1a3fc31e-2920-4bce-a29b-870a45518074"
   },
   "outputs": [
    {
     "name": "stdout",
     "output_type": "stream",
     "text": [
      "R2 train: 0.502650\n",
      "R2 test: 0.435144\n"
     ]
    }
   ],
   "source": [
    "from sklearn.metrics import r2_score\n",
    "\n",
    "print(\"R2 train: %f\" % r2_score(Y_train, Y_pred_train))\n",
    "print(\"R2 test: %f\" % r2_score(Y_test, Y_pred_test))"
   ]
  },
  {
   "cell_type": "markdown",
   "metadata": {},
   "source": [
    "Il risultato non è così male considerando le poche informazioni che abbiamo utilizzato (solamente il numero di stanze), ma possiamo fare meglio !"
   ]
  },
  {
   "cell_type": "markdown",
   "metadata": {
    "colab_type": "text",
    "id": "gfZWaPQJKqzt"
   },
   "source": [
    "## Regressione lineare multipla\n",
    "Una regressione lineare multipla è un modello che utilizza due o più features per l'addestramento.\n",
    "<br><br>\n",
    "Proviamo a predire il valore delle abitazioni utilizzando tutte le 13 features presenti nel nostro dataset, ricreiamo i nostri array con features e target, questa volta selezionando tutte le proprietà."
   ]
  },
  {
   "cell_type": "code",
   "execution_count": 33,
   "metadata": {
    "colab": {},
    "colab_type": "code",
    "id": "7hawwPvdU1AA"
   },
   "outputs": [],
   "source": [
    "X = boston.drop(\"MEDV\", axis=1).values # utilizzando drop rimuoviamo la colonna del prezzo e selezioniamo tutte le altre\n",
    "Y = boston[\"MEDV\"].values\n",
    "\n",
    "X_train, X_test, Y_train, Y_test = train_test_split(X,Y, test_size=0.3, random_state=0)"
   ]
  },
  {
   "cell_type": "markdown",
   "metadata": {
    "colab_type": "text",
    "id": "FXyhLKHTWXaP"
   },
   "source": [
    "Quando lavoriamo con più features dobbiamo essere sicuri che queste siano comprese in un range di valori comune, per far questo abbiamo due possibilità:\n",
    "* **Normalizzazione**: portiamo tutti i dati in un range compreso tra 0 e 1\n",
    "* **Standardizzazione**: convertiamo i dati in una distribuzione normale con media 0 e deviazione standard 1.\n",
    "\n",
    "Standardizziamo l'array con le features utilizzando la classe StandardScaler di scikit-learn"
   ]
  },
  {
   "cell_type": "code",
   "execution_count": 34,
   "metadata": {
    "colab": {},
    "colab_type": "code",
    "id": "xBmnJL8PXV6I"
   },
   "outputs": [],
   "source": [
    "from sklearn.preprocessing import StandardScaler\n",
    "\n",
    "ss = StandardScaler()\n",
    "X_train_std = ss.fit_transform(X_train)\n",
    "X_test_std = ss.transform(X_test)"
   ]
  },
  {
   "cell_type": "markdown",
   "metadata": {
    "colab_type": "text",
    "id": "hlxu5aytXh06"
   },
   "source": [
    "Adesso possiamo creare il modello esattamente come fatto prima..."
   ]
  },
  {
   "cell_type": "code",
   "execution_count": 35,
   "metadata": {
    "colab": {},
    "colab_type": "code",
    "id": "YHRGapRvXXyi"
   },
   "outputs": [],
   "source": [
    "from sklearn.linear_model import LinearRegression\n",
    "\n",
    "ll = LinearRegression()\n",
    "ll.fit(X_train_std, Y_train)\n",
    "Y_pred_train = ll.predict(X_train_std)\n",
    "Y_pred_test = ll.predict(X_test_std)"
   ]
  },
  {
   "cell_type": "markdown",
   "metadata": {
    "colab_type": "text",
    "id": "dMP8pVwvX7f7"
   },
   "source": [
    "... e calcolare le metriche"
   ]
  },
  {
   "cell_type": "code",
   "execution_count": 36,
   "metadata": {
    "colab": {
     "base_uri": "https://localhost:8080/",
     "height": 85
    },
    "colab_type": "code",
    "id": "WsecfLmXX1-g",
    "outputId": "0a05f97c-ee17-4eb6-f318-fe771617a14e"
   },
   "outputs": [
    {
     "name": "stdout",
     "output_type": "stream",
     "text": [
      "MSE train: 19.958220\n",
      "MSE test: 27.195966\n",
      "R2 train: 0.764545\n",
      "R2 test: 0.673383\n"
     ]
    }
   ],
   "source": [
    "print(\"MSE train: %f\" % mean_squared_error(Y_train, Y_pred_train))\n",
    "print(\"MSE test: %f\" % mean_squared_error(Y_test, Y_pred_test))\n",
    "\n",
    "print(\"R2 train: %f\" % r2_score(Y_train, Y_pred_train))\n",
    "print(\"R2 test: %f\" % r2_score(Y_test, Y_pred_test))"
   ]
  },
  {
   "cell_type": "markdown",
   "metadata": {
    "colab_type": "text",
    "id": "r8Q6xvV5Yzf3"
   },
   "source": [
    "Come vedi il risultato è nettamente superiore rispetto a quanto ottenuto con un'unica feature, avendo più informazioni a disposizione l'algoritmo di machine learning è riuscito a individuare pattern migliori e quindi a eseguire predizioni migliori.<br><br>\n",
    "Infatti una cosa da tenere sempre a mente è che, spesso, nel machine learning la qualità e la quantità di dati riveste un ruolo anche superiore a quello degli algoritmi stessi."
   ]
  },
  {
   "cell_type": "markdown",
   "metadata": {},
   "source": [
    "**Puoi leggere l'articolo di questo notebook sul [blog ufficiale di ProfessionAI](http://blog.profession.ai/la-tua-prima-regressione/)**"
   ]
  },
  {
   "cell_type": "markdown",
   "metadata": {},
   "source": [
    "### Ti interessa il Machine Learning ? \n",
    "Se vuoi approfondire più nel dettaglio la regressione e altri argomenti come classficazione e clustering allora dai uno sguardo al nostro **[Corso Pratico sul Machine Learning con Python](https://www.udemy.com/machine-learning-pratico/?couponCode=GITHUB_REPO)**, disponbile su Udemy a soli 9.90 per un periodo di tempo limitato."
   ]
  }
 ],
 "metadata": {
  "colab": {
   "name": "la_prima_regressione.ipynb",
   "provenance": [],
   "version": "0.3.2"
  },
  "kernelspec": {
   "display_name": "Python 3",
   "language": "python",
   "name": "python3"
  },
  "language_info": {
   "codemirror_mode": {
    "name": "ipython",
    "version": 3
   },
   "file_extension": ".py",
   "mimetype": "text/x-python",
   "name": "python",
   "nbconvert_exporter": "python",
   "pygments_lexer": "ipython3",
   "version": "3.6.4"
  }
 },
 "nbformat": 4,
 "nbformat_minor": 1
}
