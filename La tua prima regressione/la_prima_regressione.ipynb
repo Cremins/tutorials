{
  "nbformat": 4,
  "nbformat_minor": 0,
  "metadata": {
    "colab": {
      "name": "la_prima_regressione.ipynb",
      "version": "0.3.2",
      "provenance": [],
      "toc_visible": true,
      "include_colab_link": true
    },
    "kernelspec": {
      "display_name": "Python 3",
      "language": "python",
      "name": "python3"
    }
  },
  "cells": [
    {
      "cell_type": "markdown",
      "metadata": {
        "id": "view-in-github",
        "colab_type": "text"
      },
      "source": [
        "<a href=\"https://colab.research.google.com/github/ProfAI/tutorials/blob/master/La%20tua%20prima%20regressione/.ipynb_checkpoints/la_prima_regressione-checkpoint.ipynb\" target=\"_parent\"><img src=\"https://colab.research.google.com/assets/colab-badge.svg\" alt=\"Open In Colab\"/></a>"
      ]
    },
    {
      "metadata": {
        "colab_type": "text",
        "id": "5tULfXPRb-xQ"
      },
      "cell_type": "markdown",
      "source": [
        "# La tua prima Regressione\n",
        "La regressione è uno dei due principali problemi dell'apprendimento supervisionato, la branca del machine learning che vuole insegnare ai computer a risolvere un determinato problema mostrandogli come questo problema è stato già risolto in passato.\n",
        "<br><br>\n",
        "**Intuitivamente** la regressione consente di trovare la relazione tra input e output, in modo da predire output futuri avendo a disposizione solamente l'input.<br><br>\n",
        "Ad esempio, avendo a disposizione un set di dati contenente le specifiche di diversi smartphone e il relativo prezzo di listino, potremmo utilizzare la regressione per predire a che prezzo potrà essere venduto un nuovo smartphone basandoci sulle sue specifiche.\n",
        "\n",
        "Altri esempi molto comuni sono il provare a predire il valore futuro di un titolo in borsa in base ai valori passati, provare a predire l'affluenza di utenti al blog in base ai contenuti di un articolo che si vuole pubblicare o il numero di nuovi iscritti in base a delle campagne di advertising in pianificazione.\n",
        "\n",
        "<br><br>\n",
        "**Matematicamente** la regressione può essere intesa come il trovare la funzione che meglio approssima la relazione tra la variabile dipendente X (l'input) e la variabile indipendente Y (l'output). Nel caso di una regressione lineare questa funzione è un polinomio.\n",
        "\n",
        "$$ f(x)=xw+b $$\n",
        "\n",
        "**Graficamente** questa relazione lineare può essere rappresentata come una retta che passa il più vicino possibile a tutti i punti costituiti da input X e output Y.\n",
        "<img src=\"https://github.com/ProfAI/tutorials/blob/master/La%20tua%20prima%20regressione/.ipynb_checkpoints/res/linear.jpg?raw=1\" width=\"750px\"/>"
      ]
    },
    {
      "metadata": {
        "colab_type": "text",
        "id": "93UDaqZ3ovOy"
      },
      "cell_type": "markdown",
      "source": [
        "## Predire il valore di un'abitazione\n",
        "Per questo primo esempio utilizzeremo il popolarissimo **Boston Housing Dataset**,  un dataset contenente diverse informazioni riguardo alcune abitazioni nei dintorni di Boston.\n",
        "<br><br>\n",
        "Un dataset strutturato si può presentare in diversi formati: CSV, TSV, XML, HTTP, JSON, EXCEL eccetera, in ogni caso questo ha una struttura tabulare.<br>\n",
        " * Una delle colonne della tabella è il valore che vogliamo addestrare il nostro modello a predire e prende il nome di **target**.\n",
        " * Tutte le altre colonne sono proprietà che possiamo potenzialmente usare per creare il nostro modello, purchè abbiano una relazione con il target, e vengono chiamate **features**."
      ]
    },
    {
      "metadata": {
        "colab_type": "text",
        "id": "C04kDwFLrNLK"
      },
      "cell_type": "markdown",
      "source": [
        "Pandas è una libreria Python sviluppata appositamente per chi lavora con i dati e mette a disposizione una particolare struttura dati chiamata **DataFrame** che si presta particolarmente bene a contenere dati in forma tabulare.<br><br>\n",
        "Carichiamo il Boston Housing Dataset all'interno di un DataFrame utilizzando la funzione <span style=\"font-family: Monaco\">read_csv</span>\n",
        ", seguita dal metodo <span style=\"font-family: Monaco\">head</span>\n",
        " del DataFrame per vedere le sue prime 5 righe."
      ]
    },
    {
      "metadata": {
        "colab_type": "code",
        "id": "g58pgETWXhaf",
        "outputId": "57ba8c93-6248-4c93-d329-946e48a080fa",
        "colab": {
          "base_uri": "https://localhost:8080/",
          "height": 223
        }
      },
      "cell_type": "code",
      "source": [
        "import pandas as pd\n",
        "\n",
        "boston = pd.read_csv(\"https://archive.ics.uci.edu/ml/machine-learning-databases/housing/housing.data\", \n",
        "                     sep='\\s+', #le colonne all'interno del file sono separate da un numero variabile di spazi, in questo caso dobbiamo utilizzare l'espressione regolare '\\s+'\n",
        "                     names=[\"CRIM\",\"ZN\",\"INDUS\",\"CHAS\",\"NOX\",\"RM\",\"AGE\",\"DIS\",\"RAD\",\"TAX\",\"PRATIO\",\"B\",\"LSTAT\",\"MEDV\"]) # impostiamo dei nomi per le colonne\n",
        "\n",
        "boston.head() # passando un valore n a questo metodo stamperemo i primi n esempi del dataset"
      ],
      "execution_count": 5,
      "outputs": [
        {
          "output_type": "execute_result",
          "data": {
            "text/html": [
              "<div>\n",
              "<style scoped>\n",
              "    .dataframe tbody tr th:only-of-type {\n",
              "        vertical-align: middle;\n",
              "    }\n",
              "\n",
              "    .dataframe tbody tr th {\n",
              "        vertical-align: top;\n",
              "    }\n",
              "\n",
              "    .dataframe thead th {\n",
              "        text-align: right;\n",
              "    }\n",
              "</style>\n",
              "<table border=\"1\" class=\"dataframe\">\n",
              "  <thead>\n",
              "    <tr style=\"text-align: right;\">\n",
              "      <th></th>\n",
              "      <th>CRIM</th>\n",
              "      <th>ZN</th>\n",
              "      <th>INDUS</th>\n",
              "      <th>CHAS</th>\n",
              "      <th>NOX</th>\n",
              "      <th>RM</th>\n",
              "      <th>AGE</th>\n",
              "      <th>DIS</th>\n",
              "      <th>RAD</th>\n",
              "      <th>TAX</th>\n",
              "      <th>PRATIO</th>\n",
              "      <th>B</th>\n",
              "      <th>LSTAT</th>\n",
              "      <th>MEDV</th>\n",
              "    </tr>\n",
              "  </thead>\n",
              "  <tbody>\n",
              "    <tr>\n",
              "      <th>0</th>\n",
              "      <td>0.00632</td>\n",
              "      <td>18.0</td>\n",
              "      <td>2.31</td>\n",
              "      <td>0</td>\n",
              "      <td>0.538</td>\n",
              "      <td>6.575</td>\n",
              "      <td>65.2</td>\n",
              "      <td>4.0900</td>\n",
              "      <td>1</td>\n",
              "      <td>296.0</td>\n",
              "      <td>15.3</td>\n",
              "      <td>396.90</td>\n",
              "      <td>4.98</td>\n",
              "      <td>24.0</td>\n",
              "    </tr>\n",
              "    <tr>\n",
              "      <th>1</th>\n",
              "      <td>0.02731</td>\n",
              "      <td>0.0</td>\n",
              "      <td>7.07</td>\n",
              "      <td>0</td>\n",
              "      <td>0.469</td>\n",
              "      <td>6.421</td>\n",
              "      <td>78.9</td>\n",
              "      <td>4.9671</td>\n",
              "      <td>2</td>\n",
              "      <td>242.0</td>\n",
              "      <td>17.8</td>\n",
              "      <td>396.90</td>\n",
              "      <td>9.14</td>\n",
              "      <td>21.6</td>\n",
              "    </tr>\n",
              "    <tr>\n",
              "      <th>2</th>\n",
              "      <td>0.02729</td>\n",
              "      <td>0.0</td>\n",
              "      <td>7.07</td>\n",
              "      <td>0</td>\n",
              "      <td>0.469</td>\n",
              "      <td>7.185</td>\n",
              "      <td>61.1</td>\n",
              "      <td>4.9671</td>\n",
              "      <td>2</td>\n",
              "      <td>242.0</td>\n",
              "      <td>17.8</td>\n",
              "      <td>392.83</td>\n",
              "      <td>4.03</td>\n",
              "      <td>34.7</td>\n",
              "    </tr>\n",
              "    <tr>\n",
              "      <th>3</th>\n",
              "      <td>0.03237</td>\n",
              "      <td>0.0</td>\n",
              "      <td>2.18</td>\n",
              "      <td>0</td>\n",
              "      <td>0.458</td>\n",
              "      <td>6.998</td>\n",
              "      <td>45.8</td>\n",
              "      <td>6.0622</td>\n",
              "      <td>3</td>\n",
              "      <td>222.0</td>\n",
              "      <td>18.7</td>\n",
              "      <td>394.63</td>\n",
              "      <td>2.94</td>\n",
              "      <td>33.4</td>\n",
              "    </tr>\n",
              "    <tr>\n",
              "      <th>4</th>\n",
              "      <td>0.06905</td>\n",
              "      <td>0.0</td>\n",
              "      <td>2.18</td>\n",
              "      <td>0</td>\n",
              "      <td>0.458</td>\n",
              "      <td>7.147</td>\n",
              "      <td>54.2</td>\n",
              "      <td>6.0622</td>\n",
              "      <td>3</td>\n",
              "      <td>222.0</td>\n",
              "      <td>18.7</td>\n",
              "      <td>396.90</td>\n",
              "      <td>5.33</td>\n",
              "      <td>36.2</td>\n",
              "    </tr>\n",
              "  </tbody>\n",
              "</table>\n",
              "</div>"
            ],
            "text/plain": [
              "      CRIM    ZN  INDUS  CHAS    NOX     RM   AGE     DIS  RAD    TAX  PRATIO  \\\n",
              "0  0.00632  18.0   2.31     0  0.538  6.575  65.2  4.0900    1  296.0    15.3   \n",
              "1  0.02731   0.0   7.07     0  0.469  6.421  78.9  4.9671    2  242.0    17.8   \n",
              "2  0.02729   0.0   7.07     0  0.469  7.185  61.1  4.9671    2  242.0    17.8   \n",
              "3  0.03237   0.0   2.18     0  0.458  6.998  45.8  6.0622    3  222.0    18.7   \n",
              "4  0.06905   0.0   2.18     0  0.458  7.147  54.2  6.0622    3  222.0    18.7   \n",
              "\n",
              "        B  LSTAT  MEDV  \n",
              "0  396.90   4.98  24.0  \n",
              "1  396.90   9.14  21.6  \n",
              "2  392.83   4.03  34.7  \n",
              "3  394.63   2.94  33.4  \n",
              "4  396.90   5.33  36.2  "
            ]
          },
          "metadata": {
            "tags": []
          },
          "execution_count": 5
        }
      ]
    },
    {
      "metadata": {
        "colab_type": "text",
        "id": "FamNWyBee45X"
      },
      "cell_type": "markdown",
      "source": [
        "La colonna che abbiamo denominato MEDV contiene il valore dell'abitazione in `1000$` (es. un MEDV di 24 corrisponde a `24000$`) ed è il nostro target."
      ]
    },
    {
      "metadata": {
        "colab_type": "text",
        "id": "V4jjE4OeqG_L"
      },
      "cell_type": "markdown",
      "source": [
        "## Regressione lineare semplice\n",
        "Una regressione lineare semplice è un modello che utilizza un'unica feature, nel nostro caso utilizzeremo solo il numero di stanze, cioè la colonna che abbiamo denominato RM.\n",
        "<br><br>\n",
        "Estraiamo la feature RM  e il target MEDV e salviamo i valori all'interno di due array numpy che ci serviranno per l'addestramento."
      ]
    },
    {
      "metadata": {
        "colab_type": "code",
        "id": "MOuH4HTtcWdA",
        "colab": {}
      },
      "cell_type": "code",
      "source": [
        "X = boston[['RM']].values # con l'attributo values ottieniamo l'array\n",
        "Y = boston[\"MEDV\"].values"
      ],
      "execution_count": 0,
      "outputs": []
    },
    {
      "metadata": {
        "colab_type": "text",
        "id": "rDAJao6c6x3z"
      },
      "cell_type": "markdown",
      "source": [
        "E' buona pratica nel machine learning eseguire l'addestramento su un set di dati per poi verificare i risultati delle sue predizioni con un altro set contente dati non visti durante l'addestramento.<br><br>\n",
        "Questo garantisce che il nostro modello è in grado di generalizzare su dati sconosciuti e quindi ha realmente \"imparato\" dai dati, piuttosto che limitarsi a memorizzare il set di addestramento, condizione conosciuta come **overfitting**.\n",
        "<br><br>\n",
        "Per fare questo dobbiamo suddividere il nostro dataset in due set distinti, uno da utilizzare unicamente per l'addestramento e un altro da utilizzare per il test, possiamo farlo utilizzando il metodo <span style=\"font-family: Monaco\">train_test_split</span> di scikit-learn."
      ]
    },
    {
      "metadata": {
        "colab_type": "code",
        "id": "42bg2S5E6xNM",
        "colab": {}
      },
      "cell_type": "code",
      "source": [
        "from sklearn.model_selection import train_test_split\n",
        "X_train, X_test, Y_train, Y_test = train_test_split(X,Y, test_size=0.3, random_state=0)"
      ],
      "execution_count": 0,
      "outputs": []
    },
    {
      "metadata": {
        "colab_type": "text",
        "id": "VNAOHE6-84lL"
      },
      "cell_type": "markdown",
      "source": [
        "Adesso abbiamo tutto ciò che ci serve per costruire il modello di regressione lineare, facciamolo utilizzando la classe LinearRegression di scikit-learn:\n",
        " * con il metodo **fit** eseguiamo l'addestramento\n",
        " * con il metodo **predict** eseguiamo la predizione\n",
        " \n",
        " \n",
        "Queste due semplici API sono comuni tra tutti i modelli definiti in scikit-learn, questo rende il sostituire un modello con un altro estremamente semplice."
      ]
    },
    {
      "metadata": {
        "colab_type": "code",
        "id": "xOrfRy6_cL1D",
        "colab": {}
      },
      "cell_type": "code",
      "source": [
        "from sklearn.linear_model import LinearRegression\n",
        "\n",
        "ll = LinearRegression()\n",
        "ll.fit(X_train, Y_train) # passiamo i set di addestramento \n",
        "Y_pred_train = ll.predict(X_train) # eseguiamo la predizione sul train set\n",
        "Y_pred_test = ll.predict(X_test) # eseguiamo la predizione anche sul test set"
      ],
      "execution_count": 0,
      "outputs": []
    },
    {
      "metadata": {
        "colab_type": "text",
        "id": "pNiL_luf92jA"
      },
      "cell_type": "markdown",
      "source": [
        "Congratulazione ! Hai costruito il tuo primo modello di regressione e hai eseguito la tua prima predizione. Adesso bisogna vedere quanto buono è questo modello.<br>\n",
        "Per farlo dobbiamo definire una metrica che ci permetterà di misurare quanto le predizioni del modello si avvicinano ai valori corretti.<br>\n",
        "Una metrica semplice che fa proprio questo è **l'errore quadratico medio (mean squadred error - MSE)**"
      ]
    },
    {
      "metadata": {
        "colab_type": "code",
        "id": "USoHngAddMw3",
        "outputId": "d9e7b0b1-a732-4930-df3d-80ad3eb1dea5",
        "colab": {
          "base_uri": "https://localhost:8080/",
          "height": 51
        }
      },
      "cell_type": "code",
      "source": [
        "from sklearn.metrics import mean_squared_error\n",
        "\n",
        "print(\"MSE train: %f\" % mean_squared_error(Y_train, Y_pred_train))\n",
        "print(\"MSE test: %f\" % mean_squared_error(Y_test, Y_pred_test))"
      ],
      "execution_count": 9,
      "outputs": [
        {
          "output_type": "stream",
          "text": [
            "MSE train: 42.157651\n",
            "MSE test: 47.033047\n"
          ],
          "name": "stdout"
        }
      ]
    },
    {
      "metadata": {
        "colab_type": "text",
        "id": "sU-_bU8JCcEO"
      },
      "cell_type": "markdown",
      "source": [
        "Come vanno interpretati questi valori ? Estraendo la radice quadrata dell'MSE otteniamo un valore che indica mediamente di quanto si è sbagliato il modello. Nel nostro caso, il test set ha ottenuto un MSE di 47 la cui radice quadrata è circa 6.9, considerando che i prezzi delle case sono rappresentati in `1000$` questo ci dice che in media il modello ha fatto cilecca per `6900$`\n",
        "<br><br>\n",
        "Una metrica più intuitiva è **il coefficiente di indeterminazione** (anche conosciuto come **punteggio R2**), che può essere inteso come una versione standardizzata del MSE e ritorna un valore compreso tra 0 e 1 che può essere letto in questo modo:\n",
        "* **R2_score < 0.3** il modello è inutile.\n",
        "* **0.3 < R2_score < 0.5** il modello è scarso.\n",
        "* **0.5 < R2_score < 0.7** il modello è discreto.\n",
        "* **0.7 < R2_score < 0.9** il modello è buono.\n",
        "* **0.9 < R2_score < 1** il modello è ottimo.\n",
        "* **R2_score = 1** molto probabilmente c'è un errore nel modello."
      ]
    },
    {
      "metadata": {
        "colab_type": "code",
        "id": "pl-4zJDPeT04",
        "outputId": "ec4922db-cf62-47e6-e8af-59bf43dc5b81",
        "colab": {
          "base_uri": "https://localhost:8080/",
          "height": 51
        }
      },
      "cell_type": "code",
      "source": [
        "from sklearn.metrics import r2_score\n",
        "\n",
        "print(\"R2 train: %f\" % r2_score(Y_train, Y_pred_train))\n",
        "print(\"R2 test: %f\" % r2_score(Y_test, Y_pred_test))"
      ],
      "execution_count": 10,
      "outputs": [
        {
          "output_type": "stream",
          "text": [
            "R2 train: 0.502650\n",
            "R2 test: 0.435144\n"
          ],
          "name": "stdout"
        }
      ]
    },
    {
      "metadata": {
        "id": "TOSqEUJ6bZ9V",
        "colab_type": "text"
      },
      "cell_type": "markdown",
      "source": [
        "Il risultato non è così male considerando le poche informazioni che abbiamo utilizzato (solamente il numero di stanze), ma possiamo fare meglio !"
      ]
    },
    {
      "metadata": {
        "colab_type": "text",
        "id": "gfZWaPQJKqzt"
      },
      "cell_type": "markdown",
      "source": [
        "## Regressione lineare multipla\n",
        "Una regressione lineare multipla è un modello che utilizza due o più features per l'addestramento.\n",
        "<br><br>\n",
        "Proviamo a predire il valore delle abitazioni utilizzando tutte le 13 features presenti nel nostro dataset, ricreiamo i nostri array con features e target, questa volta selezionando tutte le proprietà."
      ]
    },
    {
      "metadata": {
        "colab_type": "code",
        "id": "7hawwPvdU1AA",
        "colab": {}
      },
      "cell_type": "code",
      "source": [
        "X = boston.drop(\"MEDV\", axis=1).values # utilizzando drop rimuoviamo la colonna del prezzo e selezioniamo tutte le altre\n",
        "Y = boston[\"MEDV\"].values\n",
        "\n",
        "X_train, X_test, Y_train, Y_test = train_test_split(X,Y, test_size=0.3, random_state=0)"
      ],
      "execution_count": 0,
      "outputs": []
    },
    {
      "metadata": {
        "colab_type": "text",
        "id": "FXyhLKHTWXaP"
      },
      "cell_type": "markdown",
      "source": [
        "Quando lavoriamo con più features dobbiamo essere sicuri che queste siano comprese in un range di valori comune, per far questo abbiamo due possibilità:\n",
        "* **Normalizzazione**: portiamo tutti i dati in un range compreso tra 0 e 1\n",
        "* **Standardizzazione**: convertiamo i dati in una distribuzione normale con media 0 e deviazione standard 1.\n",
        "\n",
        "Standardizziamo l'array con le features utilizzando la classe StandardScaler di scikit-learn"
      ]
    },
    {
      "metadata": {
        "colab_type": "code",
        "id": "xBmnJL8PXV6I",
        "colab": {}
      },
      "cell_type": "code",
      "source": [
        "from sklearn.preprocessing import StandardScaler\n",
        "\n",
        "ss = StandardScaler()\n",
        "X_train_std = ss.fit_transform(X_train)\n",
        "X_test_std = ss.transform(X_test)"
      ],
      "execution_count": 0,
      "outputs": []
    },
    {
      "metadata": {
        "colab_type": "text",
        "id": "hlxu5aytXh06"
      },
      "cell_type": "markdown",
      "source": [
        "Adesso possiamo creare il modello esattamente come fatto prima..."
      ]
    },
    {
      "metadata": {
        "colab_type": "code",
        "id": "YHRGapRvXXyi",
        "colab": {}
      },
      "cell_type": "code",
      "source": [
        "from sklearn.linear_model import LinearRegression\n",
        "\n",
        "ll = LinearRegression()\n",
        "ll.fit(X_train_std, Y_train)\n",
        "Y_pred_train = ll.predict(X_train_std)\n",
        "Y_pred_test = ll.predict(X_test_std)"
      ],
      "execution_count": 0,
      "outputs": []
    },
    {
      "metadata": {
        "colab_type": "text",
        "id": "dMP8pVwvX7f7"
      },
      "cell_type": "markdown",
      "source": [
        "... e calcolare le metriche"
      ]
    },
    {
      "metadata": {
        "colab_type": "code",
        "id": "WsecfLmXX1-g",
        "outputId": "9ce79928-3d0d-4dde-d3b3-b2b7261858ec",
        "colab": {
          "base_uri": "https://localhost:8080/",
          "height": 86
        }
      },
      "cell_type": "code",
      "source": [
        "print(\"MSE train: %f\" % mean_squared_error(Y_train, Y_pred_train))\n",
        "print(\"MSE test: %f\" % mean_squared_error(Y_test, Y_pred_test))\n",
        "\n",
        "print(\"R2 train: %f\" % r2_score(Y_train, Y_pred_train))\n",
        "print(\"R2 test: %f\" % r2_score(Y_test, Y_pred_test))"
      ],
      "execution_count": 14,
      "outputs": [
        {
          "output_type": "stream",
          "text": [
            "MSE train: 19.958220\n",
            "MSE test: 27.195966\n",
            "R2 train: 0.764545\n",
            "R2 test: 0.673383\n"
          ],
          "name": "stdout"
        }
      ]
    },
    {
      "metadata": {
        "colab_type": "text",
        "id": "r8Q6xvV5Yzf3"
      },
      "cell_type": "markdown",
      "source": [
        "Come vedi il risultato è nettamente superiore rispetto a quanto ottenuto con un'unica feature, avendo più informazioni a disposizione l'algoritmo di machine learning è riuscito a individuare pattern migliori e quindi a eseguire predizioni migliori.<br><br>\n",
        "Infatti una cosa da tenere sempre a mente è che, spesso, nel machine learning la qualità e la quantità di dati riveste un ruolo anche superiore a quello degli algoritmi stessi."
      ]
    },
    {
      "metadata": {
        "id": "CcQaqEubbdNi",
        "colab_type": "text"
      },
      "cell_type": "markdown",
      "source": [
        "## Mettiamo all'opera il modello\n",
        "Adesso che abbiamo un modello funzionante, vediamo come possiamo sfruttarlo. Vediamo assunti dalla Paperon Real Estate, che vuole avere una stima del valore di 5 abitazioni che vuole acquisire. Ci viene fornito un file csv con dentro le varie misurazioni e informazioni richieste dal nostro modello."
      ]
    },
    {
      "metadata": {
        "id": "z49VpF12bcti",
        "colab_type": "code",
        "colab": {
          "base_uri": "https://localhost:8080/",
          "height": 223
        },
        "outputId": "56fb8739-1f46-4f8c-b5fd-4c193311aafc"
      },
      "cell_type": "code",
      "source": [
        "houses = pd.read_csv(\"https://raw.githubusercontent.com/ProfAI/tutorials/master/La%20tua%20prima%20regressione/houses.csv\")\n",
        "houses.head()"
      ],
      "execution_count": 29,
      "outputs": [
        {
          "output_type": "execute_result",
          "data": {
            "text/html": [
              "<div>\n",
              "<style scoped>\n",
              "    .dataframe tbody tr th:only-of-type {\n",
              "        vertical-align: middle;\n",
              "    }\n",
              "\n",
              "    .dataframe tbody tr th {\n",
              "        vertical-align: top;\n",
              "    }\n",
              "\n",
              "    .dataframe thead th {\n",
              "        text-align: right;\n",
              "    }\n",
              "</style>\n",
              "<table border=\"1\" class=\"dataframe\">\n",
              "  <thead>\n",
              "    <tr style=\"text-align: right;\">\n",
              "      <th></th>\n",
              "      <th>CRIM</th>\n",
              "      <th>ZN</th>\n",
              "      <th>INDUS</th>\n",
              "      <th>CHAS</th>\n",
              "      <th>NOX</th>\n",
              "      <th>RM</th>\n",
              "      <th>AGE</th>\n",
              "      <th>DIS</th>\n",
              "      <th>RAD</th>\n",
              "      <th>TAX</th>\n",
              "      <th>PRATIO</th>\n",
              "      <th>B</th>\n",
              "      <th>LSTAT</th>\n",
              "    </tr>\n",
              "  </thead>\n",
              "  <tbody>\n",
              "    <tr>\n",
              "      <th>0</th>\n",
              "      <td>0.10574</td>\n",
              "      <td>0.0</td>\n",
              "      <td>27.74</td>\n",
              "      <td>0</td>\n",
              "      <td>0.609</td>\n",
              "      <td>5.983</td>\n",
              "      <td>98.8</td>\n",
              "      <td>1.8681</td>\n",
              "      <td>4</td>\n",
              "      <td>711.0</td>\n",
              "      <td>20.1</td>\n",
              "      <td>390.11</td>\n",
              "      <td>18.07</td>\n",
              "    </tr>\n",
              "    <tr>\n",
              "      <th>1</th>\n",
              "      <td>0.01432</td>\n",
              "      <td>100.0</td>\n",
              "      <td>1.32</td>\n",
              "      <td>0</td>\n",
              "      <td>0.411</td>\n",
              "      <td>6.816</td>\n",
              "      <td>40.5</td>\n",
              "      <td>8.3248</td>\n",
              "      <td>5</td>\n",
              "      <td>256.0</td>\n",
              "      <td>15.1</td>\n",
              "      <td>392.90</td>\n",
              "      <td>3.95</td>\n",
              "    </tr>\n",
              "    <tr>\n",
              "      <th>2</th>\n",
              "      <td>5.73116</td>\n",
              "      <td>0.0</td>\n",
              "      <td>18.10</td>\n",
              "      <td>0</td>\n",
              "      <td>0.532</td>\n",
              "      <td>7.061</td>\n",
              "      <td>77.0</td>\n",
              "      <td>3.4106</td>\n",
              "      <td>24</td>\n",
              "      <td>666.0</td>\n",
              "      <td>20.2</td>\n",
              "      <td>395.28</td>\n",
              "      <td>7.01</td>\n",
              "    </tr>\n",
              "    <tr>\n",
              "      <th>3</th>\n",
              "      <td>5.58107</td>\n",
              "      <td>0.0</td>\n",
              "      <td>18.10</td>\n",
              "      <td>0</td>\n",
              "      <td>0.713</td>\n",
              "      <td>6.436</td>\n",
              "      <td>87.9</td>\n",
              "      <td>2.3158</td>\n",
              "      <td>24</td>\n",
              "      <td>666.0</td>\n",
              "      <td>20.2</td>\n",
              "      <td>100.19</td>\n",
              "      <td>16.22</td>\n",
              "    </tr>\n",
              "    <tr>\n",
              "      <th>4</th>\n",
              "      <td>2.63548</td>\n",
              "      <td>0.0</td>\n",
              "      <td>9.90</td>\n",
              "      <td>0</td>\n",
              "      <td>0.544</td>\n",
              "      <td>4.973</td>\n",
              "      <td>37.8</td>\n",
              "      <td>2.5194</td>\n",
              "      <td>4</td>\n",
              "      <td>304.0</td>\n",
              "      <td>18.4</td>\n",
              "      <td>350.45</td>\n",
              "      <td>12.64</td>\n",
              "    </tr>\n",
              "  </tbody>\n",
              "</table>\n",
              "</div>"
            ],
            "text/plain": [
              "      CRIM     ZN  INDUS  CHAS    NOX     RM   AGE     DIS  RAD    TAX  \\\n",
              "0  0.10574    0.0  27.74     0  0.609  5.983  98.8  1.8681    4  711.0   \n",
              "1  0.01432  100.0   1.32     0  0.411  6.816  40.5  8.3248    5  256.0   \n",
              "2  5.73116    0.0  18.10     0  0.532  7.061  77.0  3.4106   24  666.0   \n",
              "3  5.58107    0.0  18.10     0  0.713  6.436  87.9  2.3158   24  666.0   \n",
              "4  2.63548    0.0   9.90     0  0.544  4.973  37.8  2.5194    4  304.0   \n",
              "\n",
              "   PRATIO       B  LSTAT  \n",
              "0    20.1  390.11  18.07  \n",
              "1    15.1  392.90   3.95  \n",
              "2    20.2  395.28   7.01  \n",
              "3    20.2  100.19  16.22  \n",
              "4    18.4  350.45  12.64  "
            ]
          },
          "metadata": {
            "tags": []
          },
          "execution_count": 29
        }
      ]
    },
    {
      "metadata": {
        "id": "-vtqySktePEL",
        "colab_type": "text"
      },
      "cell_type": "markdown",
      "source": [
        "Come vedi questa volta non abbiamo la colonna MEDV, che rappresenta il valore dell'abitazione, ed è ovvio, perché se avessimo già questa informazione il nostro lavoro sarebbe superfluo. \n",
        "Creiamo l'array numpy ed eseguiamo la standardizzazione."
      ]
    },
    {
      "metadata": {
        "id": "KctcPb3_dvmQ",
        "colab_type": "code",
        "colab": {}
      },
      "cell_type": "code",
      "source": [
        "X_paperon = houses.values\n",
        "X_paperon_std = ss.transform(X_paperon)"
      ],
      "execution_count": 0,
      "outputs": []
    },
    {
      "metadata": {
        "id": "1u5euDUDe8tj",
        "colab_type": "text"
      },
      "cell_type": "markdown",
      "source": [
        "Adesso che i nostri dati sono pronti, usiamo il metodo predict del nostro modello per ottenere una stima del valore"
      ]
    },
    {
      "metadata": {
        "id": "KWqiaEQle2DD",
        "colab_type": "code",
        "colab": {
          "base_uri": "https://localhost:8080/",
          "height": 34
        },
        "outputId": "b35b74fd-d06a-48fd-a38f-cf7e7ee6c59a"
      },
      "cell_type": "code",
      "source": [
        "Y_paperon = ll.predict(X_paperon_std)\n",
        "Y_paperon"
      ],
      "execution_count": 33,
      "outputs": [
        {
          "output_type": "execute_result",
          "data": {
            "text/plain": [
              "array([14.15654562, 32.89861133, 27.33605273, 17.04440455, 19.04572003])"
            ]
          },
          "metadata": {
            "tags": []
          },
          "execution_count": 33
        }
      ]
    },
    {
      "metadata": {
        "id": "vaDsCelyfNLh",
        "colab_type": "text"
      },
      "cell_type": "markdown",
      "source": [
        "Ecco le predizioni del modello ! Creiamo un file CSV aggiungendo quest'informazione."
      ]
    },
    {
      "metadata": {
        "id": "EdNPg7DBfMgO",
        "colab_type": "code",
        "colab": {
          "base_uri": "https://localhost:8080/",
          "height": 223
        },
        "outputId": "69eb176a-491c-430a-b8b8-9dbda9b40888"
      },
      "cell_type": "code",
      "source": [
        "houses[\"MEDV\"]=Y_paperon\n",
        "houses.to_csv(\"houses.csv\")\n",
        "houses.head()"
      ],
      "execution_count": 36,
      "outputs": [
        {
          "output_type": "execute_result",
          "data": {
            "text/html": [
              "<div>\n",
              "<style scoped>\n",
              "    .dataframe tbody tr th:only-of-type {\n",
              "        vertical-align: middle;\n",
              "    }\n",
              "\n",
              "    .dataframe tbody tr th {\n",
              "        vertical-align: top;\n",
              "    }\n",
              "\n",
              "    .dataframe thead th {\n",
              "        text-align: right;\n",
              "    }\n",
              "</style>\n",
              "<table border=\"1\" class=\"dataframe\">\n",
              "  <thead>\n",
              "    <tr style=\"text-align: right;\">\n",
              "      <th></th>\n",
              "      <th>CRIM</th>\n",
              "      <th>ZN</th>\n",
              "      <th>INDUS</th>\n",
              "      <th>CHAS</th>\n",
              "      <th>NOX</th>\n",
              "      <th>RM</th>\n",
              "      <th>AGE</th>\n",
              "      <th>DIS</th>\n",
              "      <th>RAD</th>\n",
              "      <th>TAX</th>\n",
              "      <th>PRATIO</th>\n",
              "      <th>B</th>\n",
              "      <th>LSTAT</th>\n",
              "      <th>MEDV</th>\n",
              "    </tr>\n",
              "  </thead>\n",
              "  <tbody>\n",
              "    <tr>\n",
              "      <th>0</th>\n",
              "      <td>0.10574</td>\n",
              "      <td>0.0</td>\n",
              "      <td>27.74</td>\n",
              "      <td>0</td>\n",
              "      <td>0.609</td>\n",
              "      <td>5.983</td>\n",
              "      <td>98.8</td>\n",
              "      <td>1.8681</td>\n",
              "      <td>4</td>\n",
              "      <td>711.0</td>\n",
              "      <td>20.1</td>\n",
              "      <td>390.11</td>\n",
              "      <td>18.07</td>\n",
              "      <td>14.156546</td>\n",
              "    </tr>\n",
              "    <tr>\n",
              "      <th>1</th>\n",
              "      <td>0.01432</td>\n",
              "      <td>100.0</td>\n",
              "      <td>1.32</td>\n",
              "      <td>0</td>\n",
              "      <td>0.411</td>\n",
              "      <td>6.816</td>\n",
              "      <td>40.5</td>\n",
              "      <td>8.3248</td>\n",
              "      <td>5</td>\n",
              "      <td>256.0</td>\n",
              "      <td>15.1</td>\n",
              "      <td>392.90</td>\n",
              "      <td>3.95</td>\n",
              "      <td>32.898611</td>\n",
              "    </tr>\n",
              "    <tr>\n",
              "      <th>2</th>\n",
              "      <td>5.73116</td>\n",
              "      <td>0.0</td>\n",
              "      <td>18.10</td>\n",
              "      <td>0</td>\n",
              "      <td>0.532</td>\n",
              "      <td>7.061</td>\n",
              "      <td>77.0</td>\n",
              "      <td>3.4106</td>\n",
              "      <td>24</td>\n",
              "      <td>666.0</td>\n",
              "      <td>20.2</td>\n",
              "      <td>395.28</td>\n",
              "      <td>7.01</td>\n",
              "      <td>27.336053</td>\n",
              "    </tr>\n",
              "    <tr>\n",
              "      <th>3</th>\n",
              "      <td>5.58107</td>\n",
              "      <td>0.0</td>\n",
              "      <td>18.10</td>\n",
              "      <td>0</td>\n",
              "      <td>0.713</td>\n",
              "      <td>6.436</td>\n",
              "      <td>87.9</td>\n",
              "      <td>2.3158</td>\n",
              "      <td>24</td>\n",
              "      <td>666.0</td>\n",
              "      <td>20.2</td>\n",
              "      <td>100.19</td>\n",
              "      <td>16.22</td>\n",
              "      <td>17.044405</td>\n",
              "    </tr>\n",
              "    <tr>\n",
              "      <th>4</th>\n",
              "      <td>2.63548</td>\n",
              "      <td>0.0</td>\n",
              "      <td>9.90</td>\n",
              "      <td>0</td>\n",
              "      <td>0.544</td>\n",
              "      <td>4.973</td>\n",
              "      <td>37.8</td>\n",
              "      <td>2.5194</td>\n",
              "      <td>4</td>\n",
              "      <td>304.0</td>\n",
              "      <td>18.4</td>\n",
              "      <td>350.45</td>\n",
              "      <td>12.64</td>\n",
              "      <td>19.045720</td>\n",
              "    </tr>\n",
              "  </tbody>\n",
              "</table>\n",
              "</div>"
            ],
            "text/plain": [
              "      CRIM     ZN  INDUS  CHAS    NOX     RM   AGE     DIS  RAD    TAX  \\\n",
              "0  0.10574    0.0  27.74     0  0.609  5.983  98.8  1.8681    4  711.0   \n",
              "1  0.01432  100.0   1.32     0  0.411  6.816  40.5  8.3248    5  256.0   \n",
              "2  5.73116    0.0  18.10     0  0.532  7.061  77.0  3.4106   24  666.0   \n",
              "3  5.58107    0.0  18.10     0  0.713  6.436  87.9  2.3158   24  666.0   \n",
              "4  2.63548    0.0   9.90     0  0.544  4.973  37.8  2.5194    4  304.0   \n",
              "\n",
              "   PRATIO       B  LSTAT       MEDV  \n",
              "0    20.1  390.11  18.07  14.156546  \n",
              "1    15.1  392.90   3.95  32.898611  \n",
              "2    20.2  395.28   7.01  27.336053  \n",
              "3    20.2  100.19  16.22  17.044405  \n",
              "4    18.4  350.45  12.64  19.045720  "
            ]
          },
          "metadata": {
            "tags": []
          },
          "execution_count": 36
        }
      ]
    },
    {
      "metadata": {
        "id": "_l0lGsT1fbve",
        "colab_type": "text"
      },
      "cell_type": "markdown",
      "source": [
        "Adesso inviamo il CSV alla Paperon Real Estate per incassare il nostro compenso :)"
      ]
    },
    {
      "metadata": {
        "id": "9p-rHQGCbZ9k",
        "colab_type": "text"
      },
      "cell_type": "markdown",
      "source": [
        "**Puoi leggere l'articolo di questo notebook sul [blog ufficiale di ProfessionAI](http://blog.profession.ai/la-tua-prima-regressione/)**"
      ]
    },
    {
      "metadata": {
        "id": "zplxqHa2bZ9l",
        "colab_type": "text"
      },
      "cell_type": "markdown",
      "source": [
        "### Ti interessa il Machine Learning ? \n",
        "Se vuoi approfondire più nel dettaglio la regressione e altri argomenti come classficazione e clustering allora dai uno sguardo al nostro **[Corso Pratico sul Machine Learning con Python](https://www.udemy.com/machine-learning-pratico/?couponCode=GITHUB_REPO)**, disponbile su Udemy a soli 9.90 per un periodo di tempo limitato."
      ]
    }
  ]
}