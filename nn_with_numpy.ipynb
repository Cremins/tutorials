{
  "nbformat": 4,
  "nbformat_minor": 0,
  "metadata": {
    "colab": {
      "name": "Untitled23.ipynb",
      "version": "0.3.2",
      "provenance": [],
      "collapsed_sections": [],
      "include_colab_link": true
    },
    "kernelspec": {
      "name": "python3",
      "display_name": "Python 3"
    }
  },
  "cells": [
    {
      "cell_type": "markdown",
      "metadata": {
        "id": "view-in-github",
        "colab_type": "text"
      },
      "source": [
        "<a href=\"https://colab.research.google.com/github/ProfAI/tutorials/blob/master/nn_with_numpy.ipynb\" target=\"_parent\"><img src=\"https://colab.research.google.com/assets/colab-badge.svg\" alt=\"Open In Colab\"/></a>"
      ]
    },
    {
      "cell_type": "markdown",
      "metadata": {
        "id": "_DxM2QIF-mIg",
        "colab_type": "text"
      },
      "source": [
        "## Una Rete Neurale da Zero"
      ]
    },
    {
      "cell_type": "code",
      "metadata": {
        "id": "PFhvFPCg-ja9",
        "colab_type": "code",
        "colab": {}
      },
      "source": [
        "import numpy as np"
      ],
      "execution_count": 0,
      "outputs": []
    },
    {
      "cell_type": "markdown",
      "metadata": {
        "id": "q8yotfV6Jji2",
        "colab_type": "text"
      },
      "source": [
        "### Metriche"
      ]
    },
    {
      "cell_type": "code",
      "metadata": {
        "id": "xgcHo3HZ-u-o",
        "colab_type": "code",
        "colab": {}
      },
      "source": [
        "def accuracy(y_truea fl, y_pred):\n",
        "  return np.sum(y_true==y_pred)/len(y_true)"
      ],
      "execution_count": 0,
      "outputs": []
    },
    {
      "cell_type": "code",
      "metadata": {
        "id": "R_H9rL38_ACS",
        "colab_type": "code",
        "colab": {}
      },
      "source": [
        "def log_loss(y_true, y_proba):\n",
        "  return -np.sum(y_true*np.log(y_proba)+(1-y_true)*np.log(1-y_proba))/len(y_true)"
      ],
      "execution_count": 0,
      "outputs": []
    },
    {
      "cell_type": "markdown",
      "metadata": {
        "id": "bZzRuRHsJm0M",
        "colab_type": "text"
      },
      "source": [
        "### Predizione"
      ]
    },
    {
      "cell_type": "code",
      "metadata": {
        "id": "GGI4C7USKbD4",
        "colab_type": "code",
        "colab": {}
      },
      "source": [
        "def relu(Z):\n",
        "  return np.maximum(Z, 0)\n",
        "\n",
        "def sigmoid(Z):\n",
        "  return 1/(1+np.power(np.e,-Z))"
      ],
      "execution_count": 0,
      "outputs": []
    },
    {
      "cell_type": "code",
      "metadata": {
        "id": "Ei6CsZ4GJo3I",
        "colab_type": "code",
        "colab": {}
      },
      "source": [
        "Z1=0\n",
        "A1=0 \n",
        "A2=0\n",
        "\n",
        "def forward_propagation(X, W1, b1, W2, b2):\n",
        "  \n",
        "  global A1\n",
        "  global A2\n",
        "  global Z1\n",
        "  \n",
        "  Z1 = np.dot(X,W1)+b1\n",
        "  \n",
        "  A1 = relu(Z1)\n",
        "  Z2 = np.dot(A1,W2)+b2\n",
        "  A2 = sigmoid(Z2)\n",
        "  \n",
        "  return A2.ravel()\n",
        "\n",
        "\n",
        "def predict(X, W1, b1, W2, b2):\n",
        "  proba = forward_propagation(X, W1, b1, W2, b2)\n",
        "  y = proba.copy()\n",
        "  y[y>=0.5]=1\n",
        "  y[y<0.5]=0\n",
        "  return y"
      ],
      "execution_count": 0,
      "outputs": []
    },
    {
      "cell_type": "markdown",
      "metadata": {
        "id": "5JOLOrsnJyru",
        "colab_type": "text"
      },
      "source": [
        "### Addestramento"
      ]
    },
    {
      "cell_type": "code",
      "metadata": {
        "id": "z3KtaM1EYM3z",
        "colab_type": "code",
        "colab": {}
      },
      "source": [
        "def init_weights(input_size, hidden_units):\n",
        "  \n",
        "  W1 = np.random.rand(input_size, hidden_units)\n",
        "  b1 = np.zeros(hidden_units)\n",
        "  W2 = np.random.rand(hidden_units,1)\n",
        "  b2 = np.zeros(1)\n",
        "\n",
        "  return W1, b1, W2, b2"
      ],
      "execution_count": 0,
      "outputs": []
    },
    {
      "cell_type": "code",
      "metadata": {
        "id": "JHtLgob3YPLC",
        "colab_type": "code",
        "colab": {}
      },
      "source": [
        "def relu_derivative(Z):\n",
        "  Z[Z<=0] = 0\n",
        "  Z[Z>0] = 1\n",
        "  return Z"
      ],
      "execution_count": 0,
      "outputs": []
    },
    {
      "cell_type": "code",
      "metadata": {
        "id": "_Ucj180fJ0jF",
        "colab_type": "code",
        "colab": {}
      },
      "source": [
        "def fit(X, hidden, epochs=10, lr=0.01):\n",
        "  \n",
        "  W1, b1, W2, b2 = init_weights(X.shape[1], hidden)\n",
        "   \n",
        "  for _ in range(epochs):\n",
        "    Y = predict(X, W1, b1, W2, b2)\n",
        "    dW1, db1, dW2, db2 = back_propagation(X, W2, A1, A2, Y)\n",
        "    W1+=lr*dW1\n",
        "    b1+=lr*db1\n",
        "    W2+=lr*dW2\n",
        "    b2+=lr*db2\n",
        "    \n",
        "  return W1, b1, W2, b2\n",
        "    \n",
        "  \n",
        "def back_propagation(X, W2, A1, A2, Y):\n",
        "  \n",
        "  m = A1.shape[1]\n",
        "  dZ2 = A2.reshape(-1,1)-Y.reshape(-1,1)\n",
        "  dW2 = np.dot(A1.T, dZ2)/m\n",
        "  db2 = np.sum(dZ2, axis=0)\n",
        "  \n",
        "  m = X.shape[1]\n",
        "  dZ1 = np.dot(dZ2.reshape(-1,1), W2.T)*relu_derivative(Z1)\n",
        "  dW1 = np.dot(X.T, dZ1)/m\n",
        "  db1 = np.sum(dZ2, axis=0)\n",
        "  \n",
        "  return dW1, db1, dW2, db2\n",
        "\n",
        "\n",
        "#fit(X_train,30,10)  "
      ],
      "execution_count": 0,
      "outputs": []
    },
    {
      "cell_type": "markdown",
      "metadata": {
        "id": "-gMCewFBAuLc",
        "colab_type": "text"
      },
      "source": [
        "## Testing"
      ]
    },
    {
      "cell_type": "code",
      "metadata": {
        "id": "OvxpC4EFAozR",
        "colab_type": "code",
        "colab": {}
      },
      "source": [
        "from sklearn.datasets import load_breast_cancer"
      ],
      "execution_count": 0,
      "outputs": []
    },
    {
      "cell_type": "code",
      "metadata": {
        "id": "sboaY9BeAs7S",
        "colab_type": "code",
        "colab": {
          "base_uri": "https://localhost:8080/",
          "height": 71
        },
        "outputId": "1a08fb31-2f17-4306-8773-f02e1e30572a"
      },
      "source": [
        "from sklearn.datasets import load_breast_cancer\n",
        "from sklearn.model_selection import train_test_split\n",
        "from sklearn.neural_network import MLPClassifier\n",
        "\n",
        "dataset = load_breast_cancer()\n",
        "X = dataset.data\n",
        "y = dataset.target\n",
        "\n",
        "X_train, X_test, y_train, y_test = train_test_split(X, y, test_size = 0.3, random_state=0)\n",
        "\n",
        "\n",
        "model = MLPClassifier(hidden_layer_sizes=(10, ))\n",
        "model.fit(X_train, y_train)\n",
        "y_pred = lr.predict(X_test)\n",
        "y_proba = lr.predict_proba(X_test)"
      ],
      "execution_count": 69,
      "outputs": [
        {
          "output_type": "stream",
          "text": [
            "/usr/local/lib/python3.6/dist-packages/sklearn/neural_network/multilayer_perceptron.py:566: ConvergenceWarning: Stochastic Optimizer: Maximum iterations (200) reached and the optimization hasn't converged yet.\n",
            "  % self.max_iter, ConvergenceWarning)\n"
          ],
          "name": "stderr"
        }
      ]
    },
    {
      "cell_type": "code",
      "metadata": {
        "id": "PfZb6F0WIBqs",
        "colab_type": "code",
        "colab": {}
      },
      "source": [
        "W1, W2 = model.coefs_\n",
        "b1, b2 = model.intercepts_"
      ],
      "execution_count": 0,
      "outputs": []
    },
    {
      "cell_type": "code",
      "metadata": {
        "id": "Mhs-ouFVRXz0",
        "colab_type": "code",
        "colab": {
          "base_uri": "https://localhost:8080/",
          "height": 34
        },
        "outputId": "802380c5-9ced-4cb9-e03d-e241f443214a"
      },
      "source": [
        "fit(X_train, 10)\n",
        "y_pred = predict(X_test, W1, b1, W2, b2)f\n",
        "accuracy(y_test, y_pred)"
      ],
      "execution_count": 154,
      "outputs": [
        {
          "output_type": "execute_result",
          "data": {
            "text/plain": [
              "0.8888888888888888"
            ]
          },
          "metadata": {
            "tags": []
          },
          "execution_count": 154
        }
      ]
    }
  ]
}