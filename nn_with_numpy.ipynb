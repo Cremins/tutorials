{
  "nbformat": 4,
  "nbformat_minor": 0,
  "metadata": {
    "colab": {
      "name": "Untitled23.ipynb",
      "version": "0.3.2",
      "provenance": [],
      "collapsed_sections": [],
      "include_colab_link": true
    },
    "kernelspec": {
      "name": "python3",
      "display_name": "Python 3"
    },
    "accelerator": "GPU"
  },
  "cells": [
    {
      "cell_type": "markdown",
      "metadata": {
        "id": "view-in-github",
        "colab_type": "text"
      },
      "source": [
        "<a href=\"https://colab.research.google.com/github/ProfAI/tutorials/blob/master/nn_with_numpy.ipynb\" target=\"_parent\"><img src=\"https://colab.research.google.com/assets/colab-badge.svg\" alt=\"Open In Colab\"/></a>"
      ]
    },
    {
      "cell_type": "markdown",
      "metadata": {
        "id": "_DxM2QIF-mIg",
        "colab_type": "text"
      },
      "source": [
        "## Una Rete Neurale da Zero"
      ]
    },
    {
      "cell_type": "code",
      "metadata": {
        "id": "PFhvFPCg-ja9",
        "colab_type": "code",
        "colab": {}
      },
      "source": [
        "import numpy as np"
      ],
      "execution_count": 0,
      "outputs": []
    },
    {
      "cell_type": "markdown",
      "metadata": {
        "id": "q8yotfV6Jji2",
        "colab_type": "text"
      },
      "source": [
        "#### Metriche"
      ]
    },
    {
      "cell_type": "markdown",
      "metadata": {
        "id": "C1jg3TVMrlON",
        "colab_type": "text"
      },
      "source": [
        "## Accuracy\n",
        "\n",
        "$$ \\frac{1}{N}\\sum_{i=0}^N(\\hat{y}-y)^2 $$"
      ]
    },
    {
      "cell_type": "code",
      "metadata": {
        "id": "xgcHo3HZ-u-o",
        "colab_type": "code",
        "colab": {}
      },
      "source": [
        "def accuracy(y, y_pred):\n",
        "  return np.sum(y==y_pred)/len(y)"
      ],
      "execution_count": 0,
      "outputs": []
    },
    {
      "cell_type": "markdown",
      "metadata": {
        "id": "yCo02J1ptDfk",
        "colab_type": "text"
      },
      "source": [
        "### Log Loss\n",
        "$$ -\\frac{1}{N}\\sum_{i=0}^N(y\\cdot log(a) + (1-y)\\cdot(1-a) $$"
      ]
    },
    {
      "cell_type": "code",
      "metadata": {
        "id": "R_H9rL38_ACS",
        "colab_type": "code",
        "colab": {}
      },
      "source": [
        "def log_loss(y_true, y_proba):\n",
        "  return -np.sum(y_true*np.log(y_proba)+(1-y_true)*np.log(1-y_proba))/len(y_true)"
      ],
      "execution_count": 0,
      "outputs": []
    },
    {
      "cell_type": "markdown",
      "metadata": {
        "id": "bZzRuRHsJm0M",
        "colab_type": "text"
      },
      "source": [
        "### Predizione"
      ]
    },
    {
      "cell_type": "markdown",
      "metadata": {
        "id": "9ZZa2eq5uDF-",
        "colab_type": "text"
      },
      "source": [
        "$$ z_1 = W_1x+b_1 $$\n",
        "<br/>\n",
        "$$ a_1 = \\text{relu}(z_1) $$\n",
        "<br/>\n",
        "$$ z_2 = W_2a_1+b_2 $$\n",
        "<br/>\n",
        "$$ a_2 = \\text{sigmoid}(z_2) $$\n",
        "<br/>\n",
        "$$ \\hat{y} = \\begin{Bmatrix} \n",
        "1  \\ \\ \\ se \\ \\  a_1\\geq 0.5\n",
        "\\\\ \n",
        "0  \\ \\ \\ se \\ \\  a_1<0.5\n",
        "\\end{Bmatrix}\n",
        "$$"
      ]
    },
    {
      "cell_type": "markdown",
      "metadata": {
        "id": "jXsZ5gQ4wkWm",
        "colab_type": "text"
      },
      "source": [
        "$$ \\text{relu}(z) = \\begin{Bmatrix} \n",
        "0  \\ \\ \\ se \\ \\  z < 0\n",
        "\\\\ \n",
        "z  \\ \\ \\ se \\ \\ z \\geq 0\n",
        "\\end{Bmatrix}\n",
        "$$\n",
        "<br>\n",
        "$$ \\text{sigmoid(z)} = \\frac{1}{1+e^{-z}} $$"
      ]
    },
    {
      "cell_type": "code",
      "metadata": {
        "id": "GGI4C7USKbD4",
        "colab_type": "code",
        "colab": {}
      },
      "source": [
        "def relu(Z):\n",
        "  return np.maximum(Z, 0)\n",
        "\n",
        "def sigmoid(Z):\n",
        "  return 1/(1+np.power(np.e,-Z))"
      ],
      "execution_count": 0,
      "outputs": []
    },
    {
      "cell_type": "code",
      "metadata": {
        "id": "Ei6CsZ4GJo3I",
        "colab_type": "code",
        "colab": {}
      },
      "source": [
        "Z1=0\n",
        "A1=0 \n",
        "A2=0\n",
        "\n",
        "def forward_propagation(X, W1, b1, W2, b2):\n",
        "  \n",
        "  global A1\n",
        "  global A2\n",
        "  global Z1\n",
        "  \n",
        "  Z1 = np.dot(X,W1)+b1\n",
        "  \n",
        "  A1 = relu(Z1)\n",
        "  Z2 = np.dot(A1,W2)+b2\n",
        "  A2 = sigmoid(Z2)\n",
        "  \n",
        "  return A2.ravel()\n",
        "\n",
        "\n",
        "def predict(X, W1, b1, W2, b2):\n",
        "  proba = forward_propagation(X, W1, b1, W2, b2)\n",
        "  y = proba.copy()\n",
        "  y[y>=0.5]=1\n",
        "  y[y<0.5]=0\n",
        "  return y"
      ],
      "execution_count": 0,
      "outputs": []
    },
    {
      "cell_type": "markdown",
      "metadata": {
        "id": "5JOLOrsnJyru",
        "colab_type": "text"
      },
      "source": [
        "### Addestramento"
      ]
    },
    {
      "cell_type": "code",
      "metadata": {
        "id": "z3KtaM1EYM3z",
        "colab_type": "code",
        "colab": {}
      },
      "source": [
        "def init_weights(input_size, hidden_units):\n",
        "  \n",
        "  W1 = np.random.rand(input_size, hidden_units)\n",
        "  b1 = np.zeros(hidden_units)\n",
        "  W2 = np.random.rand(hidden_units,1)\n",
        "  b2 = np.zeros(1)\n",
        "\n",
        "  return W1, b1, W2, b2"
      ],
      "execution_count": 0,
      "outputs": []
    },
    {
      "cell_type": "markdown",
      "metadata": {
        "id": "2YkkfTADxkd2",
        "colab_type": "text"
      },
      "source": [
        "$$\n",
        "\\text{relu_derivative}(z) =  \\begin{Bmatrix} \n",
        "0  \\ \\ \\ se \\ \\  z \\leq 0\n",
        "\\\\ \n",
        "1  \\ \\ \\ se \\ \\ z > 0\n",
        "\\end{Bmatrix}\n",
        "$$"
      ]
    },
    {
      "cell_type": "code",
      "metadata": {
        "id": "JHtLgob3YPLC",
        "colab_type": "code",
        "colab": {}
      },
      "source": [
        "def relu_derivative(Z):\n",
        "  Z[Z<=0] = 0\n",
        "  Z[Z>0] = 1\n",
        "  return Z"
      ],
      "execution_count": 0,
      "outputs": []
    },
    {
      "cell_type": "code",
      "metadata": {
        "id": "_Ucj180fJ0jF",
        "colab_type": "code",
        "colab": {}
      },
      "source": [
        "def fit(X, hidden, epochs=100, lr=0.01):\n",
        "  \n",
        "  W1, b1, W2, b2 = init_weights(X.shape[1], hidden)\n",
        "   \n",
        "  for _ in range(epochs):\n",
        "    Y = predict(X, W1, b1, W2, b2)\n",
        "    dW1, db1, dW2, db2 = back_propagation(X, W2, A1, A2, Y)\n",
        "    W1+=lr*dW1\n",
        "    b1+=lr*db1\n",
        "    W2+=lr*dW2\n",
        "    b2+=lr*db2\n",
        "    \n",
        "  return W1, b1, W2, b2\n",
        "    \n",
        "  \n",
        "def back_propagation(X, W2, A1, A2, Y):\n",
        "  \n",
        "  m = A1.shape[1]\n",
        "  dZ2 = A2.reshape(-1,1)-Y.reshape(-1,1)\n",
        "  dW2 = np.dot(A1.T, dZ2)/m\n",
        "  db2 = np.sum(dZ2, axis=0)\n",
        "  \n",
        "  m = X.shape[1]\n",
        "  dZ1 = np.dot(dZ2.reshape(-1,1), W2.T)*relu_derivative(Z1)\n",
        "  dW1 = np.dot(X.T, dZ1)/m\n",
        "  db1 = np.sum(dZ2, axis=0)\n",
        "  \n",
        "  return dW1, db1, dW2, db2"
      ],
      "execution_count": 0,
      "outputs": []
    },
    {
      "cell_type": "markdown",
      "metadata": {
        "id": "-gMCewFBAuLc",
        "colab_type": "text"
      },
      "source": [
        "## Testing"
      ]
    },
    {
      "cell_type": "code",
      "metadata": {
        "id": "w1r4TDprok4x",
        "colab_type": "code",
        "colab": {}
      },
      "source": [
        "from sklearn.datasets import load_breast_cancer"
      ],
      "execution_count": 0,
      "outputs": []
    },
    {
      "cell_type": "code",
      "metadata": {
        "id": "B78LkwtlpdeY",
        "colab_type": "code",
        "colab": {}
      },
      "source": [
        "dataset = load_breast_cancer()\n",
        "\n",
        "X = dataset.data\n",
        "y = dataset.target"
      ],
      "execution_count": 0,
      "outputs": []
    },
    {
      "cell_type": "code",
      "metadata": {
        "id": "KViYHRoXptOt",
        "colab_type": "code",
        "colab": {}
      },
      "source": [
        "from sklearn.model_selection import train_test_split\n",
        "\n",
        "X_train, X_test, y_train, y_test = train_test_split(X, y, test_size = 0.3, random_state=0)"
      ],
      "execution_count": 0,
      "outputs": []
    },
    {
      "cell_type": "markdown",
      "metadata": {
        "id": "1MrUnDJPqtKh",
        "colab_type": "text"
      },
      "source": [
        "### Scikit Learn"
      ]
    },
    {
      "cell_type": "code",
      "metadata": {
        "id": "sboaY9BeAs7S",
        "colab_type": "code",
        "outputId": "7ff7625a-5f6a-4315-a0b8-387cc6199f92",
        "colab": {
          "base_uri": "https://localhost:8080/",
          "height": 191
        }
      },
      "source": [
        "from sklearn.neural_network import MLPClassifier\n",
        "\n",
        "model = MLPClassifier(hidden_layer_sizes=(100, ))\n",
        "model.fit(X_train, y_train)"
      ],
      "execution_count": 23,
      "outputs": [
        {
          "output_type": "stream",
          "text": [
            "/usr/local/lib/python3.6/dist-packages/sklearn/neural_network/multilayer_perceptron.py:566: ConvergenceWarning: Stochastic Optimizer: Maximum iterations (200) reached and the optimization hasn't converged yet.\n",
            "  % self.max_iter, ConvergenceWarning)\n"
          ],
          "name": "stderr"
        },
        {
          "output_type": "execute_result",
          "data": {
            "text/plain": [
              "MLPClassifier(activation='relu', alpha=0.0001, batch_size='auto', beta_1=0.9,\n",
              "              beta_2=0.999, early_stopping=False, epsilon=1e-08,\n",
              "              hidden_layer_sizes=(100,), learning_rate='constant',\n",
              "              learning_rate_init=0.001, max_iter=200, momentum=0.9,\n",
              "              n_iter_no_change=10, nesterovs_momentum=True, power_t=0.5,\n",
              "              random_state=None, shuffle=True, solver='adam', tol=0.0001,\n",
              "              validation_fraction=0.1, verbose=False, warm_start=False)"
            ]
          },
          "metadata": {
            "tags": []
          },
          "execution_count": 23
        }
      ]
    },
    {
      "cell_type": "code",
      "metadata": {
        "id": "kcV9-JviqgmI",
        "colab_type": "code",
        "colab": {}
      },
      "source": [
        "y_pred = model.predict(X_test)\n",
        "y_proba = model.predict_proba(X_test)"
      ],
      "execution_count": 0,
      "outputs": []
    },
    {
      "cell_type": "code",
      "metadata": {
        "id": "cQlZCQUkqEe2",
        "colab_type": "code",
        "colab": {
          "base_uri": "https://localhost:8080/",
          "height": 51
        },
        "outputId": "01163810-8d6e-430d-91e9-b911d8eed722"
      },
      "source": [
        "from sklearn.metrics import accuracy_score, log_loss\n",
        "\n",
        "print(\"Accuracy: %.2f\" % accuracy_score(y_test, y_pred))\n",
        "print(\"Log Loss: %.4f\" % log_loss(y_test, y_proba))"
      ],
      "execution_count": 27,
      "outputs": [
        {
          "output_type": "stream",
          "text": [
            "Accuracy: 0.92\n",
            "Log Loss: 0.2503\n"
          ],
          "name": "stdout"
        }
      ]
    },
    {
      "cell_type": "markdown",
      "metadata": {
        "id": "YB8ajLI-qyqz",
        "colab_type": "text"
      },
      "source": [
        "### La nostra Rete Neurale"
      ]
    },
    {
      "cell_type": "code",
      "metadata": {
        "id": "Mhs-ouFVRXz0",
        "colab_type": "code",
        "colab": {}
      },
      "source": [
        "W1, b1, W2, b2 = fit(X_train, 100, epochs=1)"
      ],
      "execution_count": 0,
      "outputs": []
    },
    {
      "cell_type": "code",
      "metadata": {
        "id": "9O4mTr-tq4Df",
        "colab_type": "code",
        "colab": {
          "base_uri": "https://localhost:8080/",
          "height": 34
        },
        "outputId": "f31a447e-e4a9-45ac-f743-9b126a0e7e07"
      },
      "source": [
        "y_pred = predict(X_test, W1, b1, W2, b2)\n",
        "accuracy(y_test, y_pred)"
      ],
      "execution_count": 37,
      "outputs": [
        {
          "output_type": "execute_result",
          "data": {
            "text/plain": [
              "0.631578947368421"
            ]
          },
          "metadata": {
            "tags": []
          },
          "execution_count": 37
        }
      ]
    },
    {
      "cell_type": "markdown",
      "metadata": {
        "id": "Z0Ce6R5UyiGN",
        "colab_type": "text"
      },
      "source": [
        "## La Rete Neurale in una Classe"
      ]
    },
    {
      "cell_type": "code",
      "metadata": {
        "id": "15RKSF_Vq6Ht",
        "colab_type": "code",
        "colab": {}
      },
      "source": [
        "class NeuralNetwork:\n",
        "  \n",
        "  \n",
        "  def __init__(self, hidden_layer_size=100):\n",
        "    \n",
        "    self.hidden_layer_size=hidden_layer_size\n",
        "    \n",
        "    \n",
        "  def _init_weights(self, input_size, hidden_size):\n",
        "    \n",
        "    self._W1 = np.random.rand(input_size, hidden_size)\n",
        "    self._b1 = np.zeros(hidden_size)\n",
        "    self._W2 = np.random.rand(hidden_size,1)\n",
        "    self._b2 = np.zeros(1)\n",
        "\n",
        "    \n",
        "  def _accuracy(self, y, y_pred):\n",
        "               \n",
        "    return np.sum(y==y_pred)/len(y)\n",
        "    \n",
        "               \n",
        "  def _forward_propagation(self, X):\n",
        "               \n",
        "    Z1 = np.dot(X,self._W1)+self._b1\n",
        "\n",
        "    A1 = relu(Z1)\n",
        "    Z2 = np.dot(A1,self._W1.T)+self._b2\n",
        "    A2 = sigmoid(Z2)\n",
        "\n",
        "    self._forward_cache = (Z1, A1, Z2, A2)\n",
        "\n",
        "    return A2.ravel()\n",
        "\n",
        "\n",
        "  def predict(self, X):\n",
        "\n",
        "      proba =self._forward_propagation(X)\n",
        "\n",
        "      y = proba\n",
        "      y[y>=0.5]=1\n",
        "      y[y<0.5]=0\n",
        "\n",
        "      return y\n",
        "\n",
        "\n",
        "  def predict_proba(self, X):         \n",
        "      return _forward_propagation(X)\n",
        "                            \n",
        "      \n",
        "  def _back_propagation(self, X, y):\n",
        "  \n",
        "    Z1, A1, Z2, A2 = self._forward_cache\n",
        "    \n",
        "               \n",
        "    m = A1.shape[1]\n",
        "    dZ2 = A2.reshape(-1,1)-y.reshape(-1,1)\n",
        "    dW2 = np.dot(A1.T, dZ2)/m\n",
        "    db2 = np.sum(dZ2, axis=0)\n",
        "\n",
        "    m = X.shape[1]\n",
        "    dZ1 = np.dot(dZ2.reshape(-1,1), W2.T)*relu_derivative(Z1)\n",
        "    dW1 = np.dot(X.T, dZ1)/m\n",
        "    db1 = np.sum(dZ2, axis=0)\n",
        "\n",
        "    return dW1, db1, dW2, db2\n",
        "           \n",
        "               \n",
        "  def fit(self, X, y, epochs=100, lr=0.01):\n",
        "     \n",
        "    self._init_weights(X.shape[1], self.hidden_layer_size)\n",
        "      \n",
        "    for _ in range(epochs):\n",
        "      Y = self._forward_propagation(X)\n",
        "      dW1, db1, dW2, db2 = self._back_propagation(X, y)\n",
        "      self._W1+=lr*dW1\n",
        "      self._b1+=lr*db1\n",
        "      self._W2+=lr*dW2\n",
        "      self._b2+=lr*db2\n",
        "               \n",
        "\n",
        "  def evaluate(X, y):\n",
        "    y_pred = self.predict(X)\n",
        "    return self.accuracy(y, y_pred)"
      ],
      "execution_count": 0,
      "outputs": []
    },
    {
      "cell_type": "code",
      "metadata": {
        "id": "rI6vYq7l3Gq6",
        "colab_type": "code",
        "colab": {
          "base_uri": "https://localhost:8080/",
          "height": 363
        },
        "outputId": "1d19838a-7b10-4d80-8e43-b33d68885258"
      },
      "source": [
        "model = NeuralNetwork()\n",
        "model.fit(X_train, y_train)\n",
        "model.evaluate(X_test, y_test)"
      ],
      "execution_count": 56,
      "outputs": [
        {
          "output_type": "error",
          "ename": "ValueError",
          "evalue": "ignored",
          "traceback": [
            "\u001b[0;31m---------------------------------------------------------------------------\u001b[0m",
            "\u001b[0;31mValueError\u001b[0m                                Traceback (most recent call last)",
            "\u001b[0;32m<ipython-input-56-250682b6ef3d>\u001b[0m in \u001b[0;36m<module>\u001b[0;34m()\u001b[0m\n\u001b[1;32m      1\u001b[0m \u001b[0mmodel\u001b[0m \u001b[0;34m=\u001b[0m \u001b[0mNeuralNetwork\u001b[0m\u001b[0;34m(\u001b[0m\u001b[0;34m)\u001b[0m\u001b[0;34m\u001b[0m\u001b[0;34m\u001b[0m\u001b[0m\n\u001b[0;32m----> 2\u001b[0;31m \u001b[0mmodel\u001b[0m\u001b[0;34m.\u001b[0m\u001b[0mfit\u001b[0m\u001b[0;34m(\u001b[0m\u001b[0mX_train\u001b[0m\u001b[0;34m,\u001b[0m \u001b[0my_train\u001b[0m\u001b[0;34m)\u001b[0m\u001b[0;34m\u001b[0m\u001b[0;34m\u001b[0m\u001b[0m\n\u001b[0m\u001b[1;32m      3\u001b[0m \u001b[0mmodel\u001b[0m\u001b[0;34m.\u001b[0m\u001b[0mevaluate\u001b[0m\u001b[0;34m(\u001b[0m\u001b[0mX_test\u001b[0m\u001b[0;34m,\u001b[0m \u001b[0my_test\u001b[0m\u001b[0;34m)\u001b[0m\u001b[0;34m\u001b[0m\u001b[0;34m\u001b[0m\u001b[0m\n",
            "\u001b[0;32m<ipython-input-55-421be2a9d306>\u001b[0m in \u001b[0;36mfit\u001b[0;34m(self, X, y, epochs, lr)\u001b[0m\n\u001b[1;32m     72\u001b[0m     \u001b[0;32mfor\u001b[0m \u001b[0m_\u001b[0m \u001b[0;32min\u001b[0m \u001b[0mrange\u001b[0m\u001b[0;34m(\u001b[0m\u001b[0mepochs\u001b[0m\u001b[0;34m)\u001b[0m\u001b[0;34m:\u001b[0m\u001b[0;34m\u001b[0m\u001b[0;34m\u001b[0m\u001b[0m\n\u001b[1;32m     73\u001b[0m       \u001b[0mY\u001b[0m \u001b[0;34m=\u001b[0m \u001b[0mself\u001b[0m\u001b[0;34m.\u001b[0m\u001b[0m_forward_propagation\u001b[0m\u001b[0;34m(\u001b[0m\u001b[0mX\u001b[0m\u001b[0;34m)\u001b[0m\u001b[0;34m\u001b[0m\u001b[0;34m\u001b[0m\u001b[0m\n\u001b[0;32m---> 74\u001b[0;31m       \u001b[0mdW1\u001b[0m\u001b[0;34m,\u001b[0m \u001b[0mdb1\u001b[0m\u001b[0;34m,\u001b[0m \u001b[0mdW2\u001b[0m\u001b[0;34m,\u001b[0m \u001b[0mdb2\u001b[0m \u001b[0;34m=\u001b[0m \u001b[0mself\u001b[0m\u001b[0;34m.\u001b[0m\u001b[0m_back_propagation\u001b[0m\u001b[0;34m(\u001b[0m\u001b[0mX\u001b[0m\u001b[0;34m,\u001b[0m \u001b[0my\u001b[0m\u001b[0;34m)\u001b[0m\u001b[0;34m\u001b[0m\u001b[0;34m\u001b[0m\u001b[0m\n\u001b[0m\u001b[1;32m     75\u001b[0m       \u001b[0mself\u001b[0m\u001b[0;34m.\u001b[0m\u001b[0m_W1\u001b[0m\u001b[0;34m+=\u001b[0m\u001b[0mlr\u001b[0m\u001b[0;34m*\u001b[0m\u001b[0mdW1\u001b[0m\u001b[0;34m\u001b[0m\u001b[0;34m\u001b[0m\u001b[0m\n\u001b[1;32m     76\u001b[0m       \u001b[0mself\u001b[0m\u001b[0;34m.\u001b[0m\u001b[0m_b1\u001b[0m\u001b[0;34m+=\u001b[0m\u001b[0mlr\u001b[0m\u001b[0;34m*\u001b[0m\u001b[0mdb1\u001b[0m\u001b[0;34m\u001b[0m\u001b[0;34m\u001b[0m\u001b[0m\n",
            "\u001b[0;32m<ipython-input-55-421be2a9d306>\u001b[0m in \u001b[0;36m_back_propagation\u001b[0;34m(self, X, y)\u001b[0m\n\u001b[1;32m     54\u001b[0m \u001b[0;34m\u001b[0m\u001b[0m\n\u001b[1;32m     55\u001b[0m     \u001b[0mm\u001b[0m \u001b[0;34m=\u001b[0m \u001b[0mA1\u001b[0m\u001b[0;34m.\u001b[0m\u001b[0mshape\u001b[0m\u001b[0;34m[\u001b[0m\u001b[0;36m1\u001b[0m\u001b[0;34m]\u001b[0m\u001b[0;34m\u001b[0m\u001b[0;34m\u001b[0m\u001b[0m\n\u001b[0;32m---> 56\u001b[0;31m     \u001b[0mdZ2\u001b[0m \u001b[0;34m=\u001b[0m \u001b[0mA2\u001b[0m\u001b[0;34m.\u001b[0m\u001b[0mreshape\u001b[0m\u001b[0;34m(\u001b[0m\u001b[0;34m-\u001b[0m\u001b[0;36m1\u001b[0m\u001b[0;34m,\u001b[0m\u001b[0;36m1\u001b[0m\u001b[0;34m)\u001b[0m\u001b[0;34m-\u001b[0m\u001b[0my\u001b[0m\u001b[0;34m.\u001b[0m\u001b[0mreshape\u001b[0m\u001b[0;34m(\u001b[0m\u001b[0;34m-\u001b[0m\u001b[0;36m1\u001b[0m\u001b[0;34m,\u001b[0m\u001b[0;36m1\u001b[0m\u001b[0;34m)\u001b[0m\u001b[0;34m\u001b[0m\u001b[0;34m\u001b[0m\u001b[0m\n\u001b[0m\u001b[1;32m     57\u001b[0m     \u001b[0mdW2\u001b[0m \u001b[0;34m=\u001b[0m \u001b[0mnp\u001b[0m\u001b[0;34m.\u001b[0m\u001b[0mdot\u001b[0m\u001b[0;34m(\u001b[0m\u001b[0mA1\u001b[0m\u001b[0;34m.\u001b[0m\u001b[0mT\u001b[0m\u001b[0;34m,\u001b[0m \u001b[0mdZ2\u001b[0m\u001b[0;34m)\u001b[0m\u001b[0;34m/\u001b[0m\u001b[0mm\u001b[0m\u001b[0;34m\u001b[0m\u001b[0;34m\u001b[0m\u001b[0m\n\u001b[1;32m     58\u001b[0m     \u001b[0mdb2\u001b[0m \u001b[0;34m=\u001b[0m \u001b[0mnp\u001b[0m\u001b[0;34m.\u001b[0m\u001b[0msum\u001b[0m\u001b[0;34m(\u001b[0m\u001b[0mdZ2\u001b[0m\u001b[0;34m,\u001b[0m \u001b[0maxis\u001b[0m\u001b[0;34m=\u001b[0m\u001b[0;36m0\u001b[0m\u001b[0;34m)\u001b[0m\u001b[0;34m\u001b[0m\u001b[0;34m\u001b[0m\u001b[0m\n",
            "\u001b[0;31mValueError\u001b[0m: operands could not be broadcast together with shapes (11940,1) (398,1) "
          ]
        }
      ]
    },
    {
      "cell_type": "code",
      "metadata": {
        "id": "Xib7T_n34FRX",
        "colab_type": "code",
        "colab": {}
      },
      "source": [
        ""
      ],
      "execution_count": 0,
      "outputs": []
    },
    {
      "cell_type": "code",
      "metadata": {
        "id": "lKf9omi-4EVB",
        "colab_type": "code",
        "colab": {}
      },
      "source": [
        ""
      ],
      "execution_count": 0,
      "outputs": []
    }
  ]
}